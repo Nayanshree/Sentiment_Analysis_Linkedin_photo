{
 "cells": [
  {
   "cell_type": "markdown",
   "metadata": {},
   "source": [
    "# Image Analytics"
   ]
  },
  {
   "cell_type": "code",
   "execution_count": 13,
   "metadata": {},
   "outputs": [],
   "source": [
    "import selenium"
   ]
  },
  {
   "cell_type": "code",
   "execution_count": 14,
   "metadata": {},
   "outputs": [],
   "source": [
    "import csv"
   ]
  },
  {
   "cell_type": "code",
   "execution_count": 15,
   "metadata": {},
   "outputs": [],
   "source": [
    "from parsel import Selector\n",
    "from selenium import webdriver\n",
    "from selenium.webdriver.common.keys import Keys\n",
    "import time"
   ]
  },
  {
   "cell_type": "code",
   "execution_count": 29,
   "metadata": {},
   "outputs": [],
   "source": [
    "from bs4 import BeautifulSoup\n",
    "driver = webdriver.Chrome('C:/Users/NAYANSHREE SINHA/chromedriver.exe')\n",
    "driver.get('https://www.linkedin.com/')\n",
    "\n",
    "driver.find_element_by_xpath('//a[text()=\"Sign in\"]').click()\n",
    "\n",
    "username_input = driver.find_element_by_name('session_key')\n",
    "username_input.send_keys('Enter_Your_Email_id')\n",
    "\n",
    "password_input = driver.find_element_by_name('session_password')\n",
    "password_input.send_keys('Enter_your_password')\n",
    "time.sleep(5)\n",
    "# click on the sign in button\n",
    "# we're finding Sign in text button as it seems this element is seldom to be changed\n",
    "driver.find_element_by_xpath('//button[text()=\"Sign in\"]').click()\n",
    "\n",
    "driver.find_element_by_xpath('//a')\n",
    "\n",
    "driver.get('https://www.linkedin.com/in/nayan-shree-sinha-bbab73a9/')\n"
   ]
  },
  {
   "cell_type": "code",
   "execution_count": 30,
   "metadata": {},
   "outputs": [],
   "source": [
    "import re\n",
    "html = driver.page_source\n",
    "l = []\n",
    "\n",
    "soup = BeautifulSoup(html, 'html.parser')\n",
    "\n",
    "for link in soup.find_all('img'):\n",
    "    x = link.get('title')\n",
    "    if link.get('title') != None:\n",
    "        y = link.get('src')\n",
    "        l.append(y)\n",
    "         "
   ]
  },
  {
   "cell_type": "code",
   "execution_count": 31,
   "metadata": {},
   "outputs": [
    {
     "data": {
      "text/plain": [
       "'https://media-exp1.licdn.com/dms/image/C4D03AQEgrQd36bi_8A/profile-displayphoto-shrink_400_400/0?e=1600300800&v=beta&t=jFGjlVFcD1uB-4Z-XscuVMB2gBJM4pT1RKpunBS5gHA'"
      ]
     },
     "execution_count": 31,
     "metadata": {},
     "output_type": "execute_result"
    }
   ],
   "source": [
    "l[0]"
   ]
  },
  {
   "cell_type": "code",
   "execution_count": 32,
   "metadata": {},
   "outputs": [
    {
     "name": "stdout",
     "output_type": "stream",
     "text": [
      "[{\"faceId\": \"2081cba4-9502-4366-a167-e6c45ea71b1f\", \"faceRectangle\": {\"top\": 51, \"left\": 43, \"width\": 45, \"height\": 45}, \"faceAttributes\": {\"smile\": 1.0, \"gender\": \"female\", \"emotion\": {\"anger\": 0.0, \"contempt\": 0.0, \"disgust\": 0.0, \"fear\": 0.0, \"happiness\": 1.0, \"neutral\": 0.0, \"sadness\": 0.0, \"surprise\": 0.0}, \"blur\": {\"blurLevel\": \"low\", \"value\": 0.0}, \"exposure\": {\"exposureLevel\": \"goodExposure\", \"value\": 0.54}, \"noise\": {\"noiseLevel\": \"medium\", \"value\": 0.34}, \"hair\": {\"bald\": 0.03, \"invisible\": false, \"hairColor\": [{\"color\": \"black\", \"confidence\": 1.0}, {\"color\": \"brown\", \"confidence\": 0.65}, {\"color\": \"gray\", \"confidence\": 0.62}, {\"color\": \"other\", \"confidence\": 0.57}, {\"color\": \"red\", \"confidence\": 0.03}, {\"color\": \"blond\", \"confidence\": 0.03}, {\"color\": \"white\", \"confidence\": 0.0}]}}}]\n"
     ]
    }
   ],
   "source": [
    "import requests\n",
    "import json\n",
    "\n",
    "# set to your own subscription key value\n",
    "subscription_key = 'Enter_your_key'\n",
    "assert subscription_key\n",
    "\n",
    "# replace <My Endpoint String> with the string from your endpoint URL\n",
    "face_api_url = 'https://enter_endpoint_string.com/face/v1.0/detect'\n",
    "\n",
    "image_url = l[0]\n",
    "\n",
    "headers = {'Ocp-Apim-Subscription-Key': subscription_key}\n",
    "\n",
    "params = {\n",
    "    'returnFaceId': 'true',\n",
    "    'returnFaceLandmarks': 'false',\n",
    "    'returnFaceAttributes': 'gender,smile,emotion,hair,blur,exposure,noise',\n",
    "}\n",
    "\n",
    "response = requests.post(face_api_url, params=params,\n",
    "                         headers=headers, json={\"url\": image_url})\n",
    "print(json.dumps(response.json()))"
   ]
  },
  {
   "cell_type": "code",
   "execution_count": null,
   "metadata": {},
   "outputs": [],
   "source": []
  }
 ],
 "metadata": {
  "kernelspec": {
   "display_name": "Python 3",
   "language": "python",
   "name": "python3"
  },
  "language_info": {
   "codemirror_mode": {
    "name": "ipython",
    "version": 3
   },
   "file_extension": ".py",
   "mimetype": "text/x-python",
   "name": "python",
   "nbconvert_exporter": "python",
   "pygments_lexer": "ipython3",
   "version": "3.6.8"
  }
 },
 "nbformat": 4,
 "nbformat_minor": 2
}
